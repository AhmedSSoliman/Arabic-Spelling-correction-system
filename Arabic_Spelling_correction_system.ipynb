{
  "nbformat": 4,
  "nbformat_minor": 0,
  "metadata": {
    "colab": {
      "provenance": [],
      "collapsed_sections": [
        "x5K2NI2r4f6T",
        "PD_pmpD-kC62"
      ],
      "gpuType": "T4",
      "include_colab_link": true
    },
    "kernelspec": {
      "name": "python3",
      "display_name": "Python 3"
    },
    "language_info": {
      "name": "python"
    },
    "accelerator": "GPU"
  },
  "cells": [
    {
      "cell_type": "markdown",
      "metadata": {
        "id": "view-in-github",
        "colab_type": "text"
      },
      "source": [
        "<a href=\"https://colab.research.google.com/github/AhmedSSoliman/Arabic-Spelling-correction-system/blob/master/Arabic_Spelling_correction_system.ipynb\" target=\"_parent\"><img src=\"https://colab.research.google.com/assets/colab-badge.svg\" alt=\"Open In Colab\"/></a>"
      ]
    },
    {
      "cell_type": "markdown",
      "source": [
        "# **Spelling correction system**"
      ],
      "metadata": {
        "id": "YzqYSRN3UBgk"
      }
    },
    {
      "cell_type": "markdown",
      "source": [
        "# **ar-corrector**\n",
        "ar-corrector is a simple library to check the spelling of arabic sentences.\n",
        "\n",
        "This library uses a vocabulary that consists of +500K words, and uses 1-edit_distance and 2-edit_distance to correct the misspelled words.\n",
        "\n",
        "It also uses 1-ngram language model to correct the words depending on the previous context."
      ],
      "metadata": {
        "id": "x5K2NI2r4f6T"
      }
    },
    {
      "cell_type": "code",
      "source": [
        "%%capture\n",
        "!pip install ar-corrector pyarabic"
      ],
      "metadata": {
        "id": "JtjgthMyUOoR"
      },
      "execution_count": null,
      "outputs": []
    },
    {
      "cell_type": "code",
      "source": [
        "from ar_corrector.corrector import Corrector\n",
        "corrector = Corrector()"
      ],
      "metadata": {
        "id": "HoSmpso7eSyC"
      },
      "execution_count": null,
      "outputs": []
    },
    {
      "cell_type": "code",
      "source": [
        "%%time\n",
        "# Test the spelling correction system\n",
        "input_word = \"عربيياة\"\n",
        "corrections = corrector.spell_correct(input_word)\n",
        "print(corrections)"
      ],
      "metadata": {
        "colab": {
          "base_uri": "https://localhost:8080/"
        },
        "id": "g2zUhzhIeY0a",
        "outputId": "c315f9d3-473a-4c51-e9e6-677098c02138"
      },
      "execution_count": null,
      "outputs": [
        {
          "output_type": "stream",
          "name": "stdout",
          "text": [
            "[('عربية', 1900), ('عربيا', 428), ('عربيين', 20), ('عربيات', 9), ('عربيان', 5)]\n",
            "CPU times: user 278 ms, sys: 890 µs, total: 279 ms\n",
            "Wall time: 283 ms\n"
          ]
        }
      ]
    },
    {
      "cell_type": "code",
      "source": [
        "from ar_corrector.corrector import Corrector\n",
        "from pyarabic.araby import tokenize, strip_tashkeel, strip_tatweel\n",
        "\n",
        "class ArabicSpellingCorrector:\n",
        "    def __init__(self):\n",
        "        # Initialize the Corrector in the constructor\n",
        "        self.corrector = Corrector()\n",
        "\n",
        "    def arabic_spelling_correction(self, word):\n",
        "        # Tokenize the input word\n",
        "        #tokens = tokenize(word)\n",
        "\n",
        "        # Strip tashkeel (diacritics) and tatweel (elongation)\n",
        "        stripped_word = strip_tashkeel(strip_tatweel(word))\n",
        "\n",
        "        # Perform spelling correction\n",
        "        corrections = self.corrector.spell_correct(stripped_word, 5)\n",
        "\n",
        "        print(f\"Original word: {word}\")\n",
        "\n",
        "        if(corrections == True):\n",
        "            print(\"No corrections needed. The word is correct.\")\n",
        "\n",
        "        # Print the output corrections\n",
        "        elif len(corrections) > 0:\n",
        "            print(\"Possible corrections:\")\n",
        "            for correction in corrections:\n",
        "                print(correction)\n",
        "        else:\n",
        "            print(\"You entered a not valid word\")\n",
        "\n",
        "\n",
        "        return corrections"
      ],
      "metadata": {
        "id": "pwsdTqFLwnU1"
      },
      "execution_count": null,
      "outputs": []
    },
    {
      "cell_type": "code",
      "source": [
        "# Create an instance of the ArabicSpellingCorrector class\n",
        "spelling_corrector = ArabicSpellingCorrector()"
      ],
      "metadata": {
        "id": "KqjflL1nEF4G"
      },
      "execution_count": null,
      "outputs": []
    },
    {
      "cell_type": "code",
      "source": [
        "%%time\n",
        "# Test the spelling correction system\n",
        "input_word = \"عربيياة\"\n",
        "corrections = spelling_corrector.arabic_spelling_correction(input_word)\n"
      ],
      "metadata": {
        "colab": {
          "base_uri": "https://localhost:8080/"
        },
        "id": "e32-XFl3D-AG",
        "outputId": "54ca5177-36c2-46b9-f81a-c674ae65670a"
      },
      "execution_count": null,
      "outputs": [
        {
          "output_type": "stream",
          "name": "stdout",
          "text": [
            "Original word: عربيياة\n",
            "Possible corrections:\n",
            "('عربية', 1900)\n",
            "('عربيا', 428)\n",
            "('عربيين', 20)\n",
            "('عربيات', 9)\n",
            "('عربيان', 5)\n",
            "CPU times: user 289 ms, sys: 3.33 ms, total: 292 ms\n",
            "Wall time: 295 ms\n"
          ]
        }
      ]
    },
    {
      "cell_type": "code",
      "source": [
        "%%time\n",
        "# Test the spelling correction system\n",
        "input_word = \"بح ر\"\n",
        "corrections = spelling_corrector.arabic_spelling_correction(input_word)"
      ],
      "metadata": {
        "colab": {
          "base_uri": "https://localhost:8080/"
        },
        "id": "gcrpZQnPThtm",
        "outputId": "d0995538-c87b-4277-d190-c9a71c7ab13e"
      },
      "execution_count": null,
      "outputs": [
        {
          "output_type": "stream",
          "name": "stdout",
          "text": [
            "Original word: بح ر\n",
            "Possible corrections:\n",
            "('بحر', 613)\n",
            "('بحجر', 144)\n",
            "('بحذر', 132)\n",
            "('بحار', 82)\n",
            "('بحفر', 42)\n",
            "CPU times: user 827 µs, sys: 0 ns, total: 827 µs\n",
            "Wall time: 838 µs\n"
          ]
        }
      ]
    },
    {
      "cell_type": "code",
      "source": [
        "%%time\n",
        "# Test the spelling correction system\n",
        "input_word = \"أراج\"\n",
        "corrections = spelling_corrector.arabic_spelling_correction(input_word)"
      ],
      "metadata": {
        "colab": {
          "base_uri": "https://localhost:8080/"
        },
        "id": "03HcsDixwvSu",
        "outputId": "fd380025-9a28-4baa-8be0-342c87789962"
      },
      "execution_count": null,
      "outputs": [
        {
          "output_type": "stream",
          "name": "stdout",
          "text": [
            "Original word: أراج\n",
            "Possible corrections:\n",
            "('أراد', 1460)\n",
            "('أراب', 346)\n",
            "('راج', 245)\n",
            "('أراه', 239)\n",
            "('أراض', 163)\n",
            "CPU times: user 776 µs, sys: 0 ns, total: 776 µs\n",
            "Wall time: 765 µs\n"
          ]
        }
      ]
    },
    {
      "cell_type": "code",
      "source": [
        "%%time\n",
        "# Test the spelling correction system\n",
        "input_word = \"بحر\"\n",
        "corrections = spelling_corrector.arabic_spelling_correction(input_word)"
      ],
      "metadata": {
        "colab": {
          "base_uri": "https://localhost:8080/"
        },
        "id": "3Zxtmv7M9rHq",
        "outputId": "1e2044d7-2c7f-4555-f4bf-342ca613e776"
      },
      "execution_count": null,
      "outputs": [
        {
          "output_type": "stream",
          "name": "stdout",
          "text": [
            "Original word: بحر\n",
            "No corrections needed. The word is correct.\n",
            "CPU times: user 2.15 ms, sys: 0 ns, total: 2.15 ms\n",
            "Wall time: 2.11 ms\n"
          ]
        }
      ]
    },
    {
      "cell_type": "markdown",
      "source": [
        "# **SpellChecker**\n",
        "*It is good in the word processing time*"
      ],
      "metadata": {
        "id": "PD_pmpD-kC62"
      }
    },
    {
      "cell_type": "markdown",
      "source": [
        "It uses a Levenshtein Distance algorithm to find permutations within an edit distance of 2 from the original word. It then compares all permutations (insertions, deletions, replacements, and transpositions) to known words in a word frequency list. Those words that are found more often in the frequency list are more likely the correct results.\n",
        "\n",
        "pyspellchecker supports multiple languages including English, Spanish, German, French, Portuguese, Arabic and Basque. For information on how the dictionaries were created and how they can be updated and improved, please see the Dictionary Creation and Updating section of the readme!\n",
        "\n",
        "pyspellchecker supports Python 3\n",
        "\n",
        "pyspellchecker allows for the setting of the Levenshtein Distance (up to two) to check. For longer words, it is highly recommended to use a distance of 1 and not the default 2. See the quickstart to find how one can change the distance parameter."
      ],
      "metadata": {
        "id": "2iViXEWNlD4Q"
      }
    },
    {
      "cell_type": "code",
      "source": [
        "%%capture\n",
        "!pip install pyspellchecker"
      ],
      "metadata": {
        "id": "_E7UxKPmkIIw"
      },
      "execution_count": null,
      "outputs": []
    },
    {
      "cell_type": "code",
      "source": [
        "from spellchecker import SpellChecker\n",
        "# english = SpellChecker()  # the default is English (language='en')\n",
        "# spanish = SpellChecker(language='es')  # use the Spanish Dictionary\n",
        "# russian = SpellChecker(language='ru')  # use the Russian Dictionary\n",
        "arabic_spelling_checker = SpellChecker(language='ar', distance=1)   # use the Arabic Dictionary"
      ],
      "metadata": {
        "id": "XHJY7FsFkCHy"
      },
      "execution_count": null,
      "outputs": []
    },
    {
      "cell_type": "code",
      "source": [
        "%%time\n",
        "correction = arabic_spelling_checker.candidates(\"عربيياة\")\n",
        "print(correction)"
      ],
      "metadata": {
        "colab": {
          "base_uri": "https://localhost:8080/"
        },
        "id": "ApPnV3uglJd7",
        "outputId": "407a7f4a-88f2-4e54-fc66-e821210d64ba"
      },
      "execution_count": null,
      "outputs": [
        {
          "output_type": "stream",
          "name": "stdout",
          "text": [
            "None\n",
            "CPU times: user 3.05 ms, sys: 0 ns, total: 3.05 ms\n",
            "Wall time: 3.07 ms\n"
          ]
        }
      ]
    },
    {
      "cell_type": "code",
      "source": [
        "%%time\n",
        "correction = arabic_spelling_checker.candidates(\"عرباة\")\n",
        "print(correction)"
      ],
      "metadata": {
        "colab": {
          "base_uri": "https://localhost:8080/"
        },
        "id": "jdTGsFIvnN5M",
        "outputId": "88f6bf17-faa6-469b-facc-eafaac3cdaf6"
      },
      "execution_count": null,
      "outputs": [
        {
          "output_type": "stream",
          "name": "stdout",
          "text": [
            "{'رباة', 'عراة', 'عربدة', 'عرابة', 'عربية', 'عربات', 'عربة'}\n",
            "CPU times: user 2.59 ms, sys: 40 µs, total: 2.63 ms\n",
            "Wall time: 2.54 ms\n"
          ]
        }
      ]
    },
    {
      "cell_type": "code",
      "source": [
        "%%time\n",
        "correction = arabic_spelling_checker.candidates(\"بح ر\")\n",
        "print(correction)"
      ],
      "metadata": {
        "colab": {
          "base_uri": "https://localhost:8080/"
        },
        "id": "gFZbV-bSoOAv",
        "outputId": "a10f3ef1-5fd2-4960-ddda-dfdf2e771b47"
      },
      "execution_count": null,
      "outputs": [
        {
          "output_type": "stream",
          "name": "stdout",
          "text": [
            "{'بحظر', 'بحر', 'بحصر', 'بحار', 'بحبر', 'بحجر', 'بحشر', 'بحير', 'بحفر', 'بحذر'}\n",
            "CPU times: user 2.1 ms, sys: 3 µs, total: 2.11 ms\n",
            "Wall time: 2.1 ms\n"
          ]
        }
      ]
    },
    {
      "cell_type": "code",
      "source": [
        "%%time\n",
        "correction = arabic_spelling_checker.candidates(\"بحر\")\n",
        "print(correction)"
      ],
      "metadata": {
        "colab": {
          "base_uri": "https://localhost:8080/"
        },
        "id": "UpG17OcuobMG",
        "outputId": "bcb6fada-54d3-457f-e443-5cb5992ebf1a"
      },
      "execution_count": null,
      "outputs": [
        {
          "output_type": "stream",
          "name": "stdout",
          "text": [
            "{'بحر'}\n",
            "CPU times: user 2.01 ms, sys: 0 ns, total: 2.01 ms\n",
            "Wall time: 1.9 ms\n"
          ]
        }
      ]
    },
    {
      "cell_type": "markdown",
      "source": [
        "# **AraSpell**"
      ],
      "metadata": {
        "id": "dcSrj2Udir0I"
      }
    },
    {
      "cell_type": "markdown",
      "source": [
        "AraSpell is a modern technique."
      ],
      "metadata": {
        "id": "roRR4njmxAvK"
      }
    },
    {
      "cell_type": "markdown",
      "source": [
        "[AraSpell](https://github.com/msalhab96/AraSpell/)"
      ],
      "metadata": {
        "id": "d0imQoyAxUyX"
      }
    },
    {
      "cell_type": "code",
      "source": [],
      "metadata": {
        "id": "rdsbvdKbxJez"
      },
      "execution_count": null,
      "outputs": []
    },
    {
      "cell_type": "markdown",
      "source": [
        "### **CustomArabicSpellingCorrector**\n",
        "### If you want to do a custom correction"
      ],
      "metadata": {
        "id": "BQzLFKTTd2jV"
      }
    },
    {
      "cell_type": "code",
      "source": [
        "from ar_corrector.corrector import Corrector\n",
        "from pyarabic.araby import tokenize, strip_tashkeel, strip_tatweel\n",
        "\n",
        "class CustomArabicSpellingCorrector:\n",
        "    #def __init__(self):\n",
        "        # Initialize the Corrector in the constructor\n",
        "        #self.corrector = Corrector()\n",
        "\n",
        "    def arabic_spelling_correction(self, word):\n",
        "\n",
        "        # Strip tashkeel (diacritics) and tatweel (elongation)\n",
        "        stripped_word = strip_tashkeel(strip_tatweel(word))\n",
        "\n",
        "        # Perform spelling correction\n",
        "        corrections = []\n",
        "\n",
        "        # Add possible corrections to the list\n",
        "        # You can use your own logic or dictionary for spelling correction\n",
        "\n",
        "        # For demonstration purposes, let's just add some sample corrections\n",
        "        corrections.append(stripped_word + \"ة\")\n",
        "        corrections.append(stripped_word[:-2] + \"ي\")\n",
        "        corrections.append(stripped_word[:-2])\n",
        "        corrections.append(\"غ\" + stripped_word[:-2] + \"ة\")\n",
        "\n",
        "        print(f\"Original word: {word}\")\n",
        "\n",
        "        if(corrections == True):\n",
        "            print(\"No corrections needed. The word is correct.\")\n",
        "\n",
        "        # Print the output corrections\n",
        "        elif len(corrections) > 0:\n",
        "            print(\"Possible corrections:\")\n",
        "            for correction in corrections:\n",
        "                print(correction)\n",
        "        else:\n",
        "            print(\"You entered a not valid word\")\n",
        "\n",
        "\n",
        "        return corrections"
      ],
      "metadata": {
        "id": "Sd8cH-1sdc0R"
      },
      "execution_count": null,
      "outputs": []
    },
    {
      "cell_type": "code",
      "source": [
        "# Create an instance of the ArabicSpellingCorrector class\n",
        "spelling_corrector = CustomArabicSpellingCorrector()"
      ],
      "metadata": {
        "id": "DhWen-6pfSdq"
      },
      "execution_count": null,
      "outputs": []
    },
    {
      "cell_type": "code",
      "source": [
        "%%time\n",
        "# Test the spelling correction system\n",
        "input_word = \"عربيياة\"\n",
        "corrections = spelling_corrector.arabic_spelling_correction(input_word)\n"
      ],
      "metadata": {
        "colab": {
          "base_uri": "https://localhost:8080/"
        },
        "outputId": "b10b4666-20c3-4be2-92e1-fed0ce9b1f0b",
        "id": "M2tzJJi9fSdr"
      },
      "execution_count": null,
      "outputs": [
        {
          "output_type": "stream",
          "name": "stdout",
          "text": [
            "Original word: عربيياة\n",
            "Possible corrections:\n",
            "عربيياةة\n",
            "عربييي\n",
            "عربيي\n",
            "غعربيية\n",
            "CPU times: user 1.78 ms, sys: 1.09 ms, total: 2.87 ms\n",
            "Wall time: 3.31 ms\n"
          ]
        }
      ]
    }
  ]
}